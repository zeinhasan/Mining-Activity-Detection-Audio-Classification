{
 "cells": [
  {
   "cell_type": "code",
   "execution_count": 1,
   "metadata": {},
   "outputs": [],
   "source": [
    "import os\n",
    "from audiomentations import Compose, AddGaussianNoise, TimeStretch, PitchShift, Gain\n",
    "from pydub import AudioSegment\n",
    "import numpy as np\n",
    "import re\n",
    "import array\n",
    "import string\n",
    "import random"
   ]
  },
  {
   "cell_type": "code",
   "execution_count": 2,
   "metadata": {},
   "outputs": [],
   "source": [
    "audio_folder = 'Dataset/Valid/Yes'\n",
    "output_folder = 'Dataset/Valid/Yes/augmented'"
   ]
  },
  {
   "cell_type": "code",
   "execution_count": 3,
   "metadata": {},
   "outputs": [],
   "source": [
    "augmentations = Compose([\n",
    "    AddGaussianNoise(min_amplitude=0.001, max_amplitude=0.015, p=0.5),\n",
    "    TimeStretch(min_rate=0.8, max_rate=1.2, p=0.5),\n",
    "    PitchShift(min_semitones=-4, max_semitones=4, p=0.5),\n",
    "    Gain(min_gain_in_db=10, max_gain_in_db=10, p=0.5),\n",
    "])"
   ]
  },
  {
   "cell_type": "code",
   "execution_count": 4,
   "metadata": {},
   "outputs": [],
   "source": [
    "# Function to generate a random string of characters\n",
    "def generate_random_string(length):\n",
    "    letters = string.ascii_lowercase\n",
    "    return ''.join(random.choice(letters) for _ in range(length))\n",
    "\n",
    "for filename in os.listdir(audio_folder):\n",
    "    if filename.endswith('.mp3'):\n",
    "        audio_path = os.path.join(audio_folder, filename)\n",
    "        audio = AudioSegment.from_mp3(audio_path)\n",
    "\n",
    "        # Convert MP3 to WAV format\n",
    "        audio.export(\"temp.wav\", format=\"wav\")\n",
    "\n",
    "        # Load the WAV file as floating-point data\n",
    "        wav_data = np.array(audio.get_array_of_samples(), dtype=np.float32) / 32767.0\n",
    "\n",
    "        # Apply audio augmentation\n",
    "        augmented_audio = augmentations(samples=wav_data, sample_rate=audio.frame_rate)\n",
    "\n",
    "        # Convert back to 16-bit integer\n",
    "        augmented_audio = (augmented_audio * 32767.0).astype(np.int16)\n",
    "\n",
    "        # Create the output audio segment\n",
    "        augmented_segment = AudioSegment(\n",
    "            augmented_audio.tobytes(),\n",
    "            frame_rate=audio.frame_rate,\n",
    "            sample_width=audio.sample_width,\n",
    "            channels=audio.channels\n",
    "        )\n",
    "\n",
    "        # Generate a unique filename\n",
    "        output_base_filename = os.path.splitext(filename)[0]\n",
    "        random_string = generate_random_string(5)\n",
    "        output_filename = f\"augmented_{output_base_filename}_{random_string}.mp3\"\n",
    "        output_path = os.path.join(output_folder, output_filename)\n",
    "\n",
    "        # Create the output folder if it doesn't exist\n",
    "        os.makedirs(os.path.dirname(output_path), exist_ok=True)\n",
    "\n",
    "        # Save the augmented audio as MP3\n",
    "        augmented_segment.export(output_path, format=\"mp3\")"
   ]
  }
 ],
 "metadata": {
  "kernelspec": {
   "display_name": "tensorflow_gpu_zein",
   "language": "python",
   "name": "python3"
  },
  "language_info": {
   "codemirror_mode": {
    "name": "ipython",
    "version": 3
   },
   "file_extension": ".py",
   "mimetype": "text/x-python",
   "name": "python",
   "nbconvert_exporter": "python",
   "pygments_lexer": "ipython3",
   "version": "3.10.0"
  },
  "orig_nbformat": 4
 },
 "nbformat": 4,
 "nbformat_minor": 2
}
